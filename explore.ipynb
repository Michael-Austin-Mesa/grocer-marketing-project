{
 "cells": [
  {
   "cell_type": "markdown",
   "id": "355aa8b6",
   "metadata": {},
   "source": [
    "### Context\n",
    "\n",
    "A response model can provide a significant boost to the efficiency of a marketing campaign by increasing responses or reducing expenses. The objective is to predict who will respond to an offer for a product or service\n",
    "\n",
    "### Content\n",
    "\n",
    "| Feature | Definition |\n",
    "| :- | :- |\n",
    "| AcceptedCmp1 | 1 if customer accepted the offer in the 1st campaign, 0 otherwise |\n",
    "| AcceptedCmp2 | 1 if customer accepted the offer in the 2nd campaign, 0 otherwise |\n",
    "| AcceptedCmp3 | 1 if customer accepted the offer in the 3rd campaign, 0 otherwise |\n",
    "| AcceptedCmp4 | 1 if customer accepted the offer in the 4th campaign, 0 otherwise |\n",
    "| AcceptedCmp5 | 1 if customer accepted the offer in the 5th campaign, 0 otherwise |\n",
    "| Response (target) | 1 if customer accepted the offer in the last campaign, 0 otherwise |\n",
    "| Complain | 1 if customer complained in the last 2 years |\n",
    "| DtCustomer | date of customer’s enrolment with the company |\n",
    "| Education | customer’s level of education |\n",
    "| Marital | customer’s marital status |\n",
    "| Kidhome | number of small children in customer’s household |\n",
    "| Teenhome | number of teenagers in customer’s household |\n",
    "| Income | customer’s yearly household income |\n",
    "| MntFishProducts | amount spent on fish products in the last 2 years |\n",
    "| MntMeatProducts | amount spent on meat products in the last 2 years |\n",
    "| MntFruits | amount spent on fruits products in the last 2 years |\n",
    "| MntSweetProducts | amount spent on sweet products in the last 2 years |\n",
    "| MntWines | amount spent on wine products in the last 2 years |\n",
    "| MntGoldProds | amount spent on gold products in the last 2 years |\n",
    "| NumDealsPurchases | number of purchases made with discount |\n",
    "| NumCatalogPurchases | number of purchases made using catalogue |\n",
    "| NumStorePurchases | number of purchases made directly in stores |\n",
    "| NumWebPurchases | number of purchases made through company’s web site |\n",
    "| NumWebVisitsMonth | number of visits to company’s web site in the last month |\n",
    "| Recency | number of days since the last purchase |\n",
    "\n",
    "### Acknowledgements\n",
    "\n",
    "O. Parr-Rud. Business Analytics Using SAS Enterprise Guide and SAS Enterprise Miner. SAS Institute, 2014.\n",
    "\n",
    "### Inspiration\n",
    "\n",
    "The main objective is to train a predictive model which allows the company to maximize the profit of the next marketing campaign."
   ]
  },
  {
   "cell_type": "code",
   "execution_count": 1,
   "id": "a31d2869",
   "metadata": {},
   "outputs": [],
   "source": [
    "import pandas as pd\n",
    "import numpy as np\n",
    "import seaborn as sns\n",
    "import matplotlib as plt"
   ]
  },
  {
   "cell_type": "code",
   "execution_count": 2,
   "id": "678ef214",
   "metadata": {},
   "outputs": [],
   "source": [
    "df = pd.read_csv('marketing_campaign_CLEANED.csv', sep=';')"
   ]
  },
  {
   "cell_type": "code",
   "execution_count": 3,
   "id": "1ac842b6",
   "metadata": {},
   "outputs": [],
   "source": [
    "df=df.dropna()"
   ]
  },
  {
   "cell_type": "code",
   "execution_count": 4,
   "id": "bdec290d",
   "metadata": {},
   "outputs": [
    {
     "name": "stdout",
     "output_type": "stream",
     "text": [
      "<class 'pandas.core.frame.DataFrame'>\n",
      "Int64Index: 2204 entries, 0 to 2207\n",
      "Data columns (total 34 columns):\n",
      " #   Column                    Non-Null Count  Dtype  \n",
      "---  ------                    --------------  -----  \n",
      " 0   Unnamed: 0                2204 non-null   int64  \n",
      " 1   Education                 2204 non-null   object \n",
      " 2   Marital_Status            2204 non-null   object \n",
      " 3   Income                    2204 non-null   float64\n",
      " 4   Kidhome                   2204 non-null   int64  \n",
      " 5   Teenhome                  2204 non-null   int64  \n",
      " 6   Recency                   2204 non-null   int64  \n",
      " 7   MntWines                  2204 non-null   int64  \n",
      " 8   MntFruits                 2204 non-null   int64  \n",
      " 9   MntMeatProducts           2204 non-null   int64  \n",
      " 10  MntFishProducts           2204 non-null   int64  \n",
      " 11  MntSweetProducts          2204 non-null   int64  \n",
      " 12  MntGoldProds              2204 non-null   int64  \n",
      " 13  NumDealsPurchases         2204 non-null   int64  \n",
      " 14  NumWebPurchases           2204 non-null   int64  \n",
      " 15  NumCatalogPurchases       2204 non-null   int64  \n",
      " 16  NumStorePurchases         2204 non-null   int64  \n",
      " 17  NumWebVisitsMonth         2204 non-null   int64  \n",
      " 18  AcceptedCmp3              2204 non-null   int64  \n",
      " 19  AcceptedCmp4              2204 non-null   int64  \n",
      " 20  AcceptedCmp5              2204 non-null   int64  \n",
      " 21  AcceptedCmp1              2204 non-null   int64  \n",
      " 22  AcceptedCmp2              2204 non-null   int64  \n",
      " 23  Complain                  2204 non-null   int64  \n",
      " 24  Response                  2204 non-null   int64  \n",
      " 25  Education_Level           2204 non-null   object \n",
      " 26  Age                       2204 non-null   int64  \n",
      " 27  Total_Campaigns_Accepted  2204 non-null   int64  \n",
      " 28  Average_Spend             2204 non-null   float64\n",
      " 29  Spent                     2204 non-null   int64  \n",
      " 30  Is_Parent                 2204 non-null   int64  \n",
      " 31  total_spending            2204 non-null   int64  \n",
      " 32  avg_web_visits            2204 non-null   float64\n",
      " 33  online_purchase_ratio     2204 non-null   float64\n",
      "dtypes: float64(4), int64(27), object(3)\n",
      "memory usage: 602.7+ KB\n"
     ]
    }
   ],
   "source": [
    "df.info()"
   ]
  },
  {
   "cell_type": "code",
   "execution_count": 5,
   "id": "fe348f43",
   "metadata": {},
   "outputs": [
    {
     "data": {
      "text/html": [
       "<div>\n",
       "<style scoped>\n",
       "    .dataframe tbody tr th:only-of-type {\n",
       "        vertical-align: middle;\n",
       "    }\n",
       "\n",
       "    .dataframe tbody tr th {\n",
       "        vertical-align: top;\n",
       "    }\n",
       "\n",
       "    .dataframe thead th {\n",
       "        text-align: right;\n",
       "    }\n",
       "</style>\n",
       "<table border=\"1\" class=\"dataframe\">\n",
       "  <thead>\n",
       "    <tr style=\"text-align: right;\">\n",
       "      <th></th>\n",
       "      <th>Unnamed: 0</th>\n",
       "      <th>Education</th>\n",
       "      <th>Marital_Status</th>\n",
       "      <th>Income</th>\n",
       "      <th>Kidhome</th>\n",
       "      <th>Teenhome</th>\n",
       "      <th>Recency</th>\n",
       "      <th>MntWines</th>\n",
       "      <th>MntFruits</th>\n",
       "      <th>MntMeatProducts</th>\n",
       "      <th>...</th>\n",
       "      <th>Response</th>\n",
       "      <th>Education_Level</th>\n",
       "      <th>Age</th>\n",
       "      <th>Total_Campaigns_Accepted</th>\n",
       "      <th>Average_Spend</th>\n",
       "      <th>Spent</th>\n",
       "      <th>Is_Parent</th>\n",
       "      <th>total_spending</th>\n",
       "      <th>avg_web_visits</th>\n",
       "      <th>online_purchase_ratio</th>\n",
       "    </tr>\n",
       "  </thead>\n",
       "  <tbody>\n",
       "    <tr>\n",
       "      <th>0</th>\n",
       "      <td>0</td>\n",
       "      <td>Graduation</td>\n",
       "      <td>Single</td>\n",
       "      <td>58138.0</td>\n",
       "      <td>0</td>\n",
       "      <td>0</td>\n",
       "      <td>58</td>\n",
       "      <td>635</td>\n",
       "      <td>88</td>\n",
       "      <td>546</td>\n",
       "      <td>...</td>\n",
       "      <td>1</td>\n",
       "      <td>High</td>\n",
       "      <td>66</td>\n",
       "      <td>0</td>\n",
       "      <td>539.000000</td>\n",
       "      <td>2252</td>\n",
       "      <td>0</td>\n",
       "      <td>1617</td>\n",
       "      <td>0.583333</td>\n",
       "      <td>0.363636</td>\n",
       "    </tr>\n",
       "    <tr>\n",
       "      <th>1</th>\n",
       "      <td>1</td>\n",
       "      <td>Graduation</td>\n",
       "      <td>Single</td>\n",
       "      <td>46344.0</td>\n",
       "      <td>1</td>\n",
       "      <td>1</td>\n",
       "      <td>38</td>\n",
       "      <td>11</td>\n",
       "      <td>1</td>\n",
       "      <td>6</td>\n",
       "      <td>...</td>\n",
       "      <td>0</td>\n",
       "      <td>High</td>\n",
       "      <td>69</td>\n",
       "      <td>0</td>\n",
       "      <td>13.500000</td>\n",
       "      <td>38</td>\n",
       "      <td>1</td>\n",
       "      <td>27</td>\n",
       "      <td>0.416667</td>\n",
       "      <td>0.250000</td>\n",
       "    </tr>\n",
       "    <tr>\n",
       "      <th>2</th>\n",
       "      <td>2</td>\n",
       "      <td>Graduation</td>\n",
       "      <td>Together</td>\n",
       "      <td>71613.0</td>\n",
       "      <td>0</td>\n",
       "      <td>0</td>\n",
       "      <td>26</td>\n",
       "      <td>426</td>\n",
       "      <td>49</td>\n",
       "      <td>127</td>\n",
       "      <td>...</td>\n",
       "      <td>0</td>\n",
       "      <td>High</td>\n",
       "      <td>58</td>\n",
       "      <td>0</td>\n",
       "      <td>776.000000</td>\n",
       "      <td>1202</td>\n",
       "      <td>0</td>\n",
       "      <td>776</td>\n",
       "      <td>0.333333</td>\n",
       "      <td>0.400000</td>\n",
       "    </tr>\n",
       "    <tr>\n",
       "      <th>3</th>\n",
       "      <td>3</td>\n",
       "      <td>Graduation</td>\n",
       "      <td>Together</td>\n",
       "      <td>26646.0</td>\n",
       "      <td>1</td>\n",
       "      <td>0</td>\n",
       "      <td>26</td>\n",
       "      <td>11</td>\n",
       "      <td>4</td>\n",
       "      <td>20</td>\n",
       "      <td>...</td>\n",
       "      <td>0</td>\n",
       "      <td>High</td>\n",
       "      <td>39</td>\n",
       "      <td>0</td>\n",
       "      <td>26.500000</td>\n",
       "      <td>64</td>\n",
       "      <td>1</td>\n",
       "      <td>53</td>\n",
       "      <td>0.500000</td>\n",
       "      <td>0.333333</td>\n",
       "    </tr>\n",
       "    <tr>\n",
       "      <th>4</th>\n",
       "      <td>4</td>\n",
       "      <td>PhD</td>\n",
       "      <td>Married</td>\n",
       "      <td>58293.0</td>\n",
       "      <td>1</td>\n",
       "      <td>0</td>\n",
       "      <td>94</td>\n",
       "      <td>173</td>\n",
       "      <td>43</td>\n",
       "      <td>118</td>\n",
       "      <td>...</td>\n",
       "      <td>0</td>\n",
       "      <td>High</td>\n",
       "      <td>42</td>\n",
       "      <td>0</td>\n",
       "      <td>84.400000</td>\n",
       "      <td>595</td>\n",
       "      <td>1</td>\n",
       "      <td>422</td>\n",
       "      <td>0.416667</td>\n",
       "      <td>0.357143</td>\n",
       "    </tr>\n",
       "    <tr>\n",
       "      <th>...</th>\n",
       "      <td>...</td>\n",
       "      <td>...</td>\n",
       "      <td>...</td>\n",
       "      <td>...</td>\n",
       "      <td>...</td>\n",
       "      <td>...</td>\n",
       "      <td>...</td>\n",
       "      <td>...</td>\n",
       "      <td>...</td>\n",
       "      <td>...</td>\n",
       "      <td>...</td>\n",
       "      <td>...</td>\n",
       "      <td>...</td>\n",
       "      <td>...</td>\n",
       "      <td>...</td>\n",
       "      <td>...</td>\n",
       "      <td>...</td>\n",
       "      <td>...</td>\n",
       "      <td>...</td>\n",
       "      <td>...</td>\n",
       "      <td>...</td>\n",
       "    </tr>\n",
       "    <tr>\n",
       "      <th>2203</th>\n",
       "      <td>2235</td>\n",
       "      <td>Graduation</td>\n",
       "      <td>Married</td>\n",
       "      <td>61223.0</td>\n",
       "      <td>0</td>\n",
       "      <td>1</td>\n",
       "      <td>46</td>\n",
       "      <td>709</td>\n",
       "      <td>43</td>\n",
       "      <td>182</td>\n",
       "      <td>...</td>\n",
       "      <td>0</td>\n",
       "      <td>High</td>\n",
       "      <td>56</td>\n",
       "      <td>0</td>\n",
       "      <td>670.500000</td>\n",
       "      <td>2050</td>\n",
       "      <td>1</td>\n",
       "      <td>1341</td>\n",
       "      <td>0.416667</td>\n",
       "      <td>0.562500</td>\n",
       "    </tr>\n",
       "    <tr>\n",
       "      <th>2204</th>\n",
       "      <td>2236</td>\n",
       "      <td>PhD</td>\n",
       "      <td>Together</td>\n",
       "      <td>64014.0</td>\n",
       "      <td>2</td>\n",
       "      <td>1</td>\n",
       "      <td>56</td>\n",
       "      <td>406</td>\n",
       "      <td>0</td>\n",
       "      <td>30</td>\n",
       "      <td>...</td>\n",
       "      <td>0</td>\n",
       "      <td>High</td>\n",
       "      <td>77</td>\n",
       "      <td>1</td>\n",
       "      <td>63.428571</td>\n",
       "      <td>850</td>\n",
       "      <td>1</td>\n",
       "      <td>444</td>\n",
       "      <td>0.583333</td>\n",
       "      <td>0.533333</td>\n",
       "    </tr>\n",
       "    <tr>\n",
       "      <th>2205</th>\n",
       "      <td>2237</td>\n",
       "      <td>Graduation</td>\n",
       "      <td>Divorced</td>\n",
       "      <td>56981.0</td>\n",
       "      <td>0</td>\n",
       "      <td>0</td>\n",
       "      <td>91</td>\n",
       "      <td>908</td>\n",
       "      <td>48</td>\n",
       "      <td>217</td>\n",
       "      <td>...</td>\n",
       "      <td>0</td>\n",
       "      <td>High</td>\n",
       "      <td>42</td>\n",
       "      <td>1</td>\n",
       "      <td>1241.000000</td>\n",
       "      <td>2149</td>\n",
       "      <td>0</td>\n",
       "      <td>1241</td>\n",
       "      <td>0.500000</td>\n",
       "      <td>0.111111</td>\n",
       "    </tr>\n",
       "    <tr>\n",
       "      <th>2206</th>\n",
       "      <td>2238</td>\n",
       "      <td>Master</td>\n",
       "      <td>Together</td>\n",
       "      <td>69245.0</td>\n",
       "      <td>0</td>\n",
       "      <td>1</td>\n",
       "      <td>8</td>\n",
       "      <td>428</td>\n",
       "      <td>30</td>\n",
       "      <td>214</td>\n",
       "      <td>...</td>\n",
       "      <td>0</td>\n",
       "      <td>High</td>\n",
       "      <td>67</td>\n",
       "      <td>0</td>\n",
       "      <td>421.500000</td>\n",
       "      <td>1271</td>\n",
       "      <td>1</td>\n",
       "      <td>843</td>\n",
       "      <td>0.250000</td>\n",
       "      <td>0.285714</td>\n",
       "    </tr>\n",
       "    <tr>\n",
       "      <th>2207</th>\n",
       "      <td>2239</td>\n",
       "      <td>PhD</td>\n",
       "      <td>Married</td>\n",
       "      <td>52869.0</td>\n",
       "      <td>1</td>\n",
       "      <td>1</td>\n",
       "      <td>40</td>\n",
       "      <td>84</td>\n",
       "      <td>3</td>\n",
       "      <td>61</td>\n",
       "      <td>...</td>\n",
       "      <td>1</td>\n",
       "      <td>High</td>\n",
       "      <td>69</td>\n",
       "      <td>0</td>\n",
       "      <td>57.333333</td>\n",
       "      <td>256</td>\n",
       "      <td>1</td>\n",
       "      <td>172</td>\n",
       "      <td>0.583333</td>\n",
       "      <td>0.375000</td>\n",
       "    </tr>\n",
       "  </tbody>\n",
       "</table>\n",
       "<p>2204 rows × 34 columns</p>\n",
       "</div>"
      ],
      "text/plain": [
       "      Unnamed: 0   Education Marital_Status   Income  Kidhome  Teenhome  \\\n",
       "0              0  Graduation         Single  58138.0        0         0   \n",
       "1              1  Graduation         Single  46344.0        1         1   \n",
       "2              2  Graduation       Together  71613.0        0         0   \n",
       "3              3  Graduation       Together  26646.0        1         0   \n",
       "4              4         PhD        Married  58293.0        1         0   \n",
       "...          ...         ...            ...      ...      ...       ...   \n",
       "2203        2235  Graduation        Married  61223.0        0         1   \n",
       "2204        2236         PhD       Together  64014.0        2         1   \n",
       "2205        2237  Graduation       Divorced  56981.0        0         0   \n",
       "2206        2238      Master       Together  69245.0        0         1   \n",
       "2207        2239         PhD        Married  52869.0        1         1   \n",
       "\n",
       "      Recency  MntWines  MntFruits  MntMeatProducts  ...  Response  \\\n",
       "0          58       635         88              546  ...         1   \n",
       "1          38        11          1                6  ...         0   \n",
       "2          26       426         49              127  ...         0   \n",
       "3          26        11          4               20  ...         0   \n",
       "4          94       173         43              118  ...         0   \n",
       "...       ...       ...        ...              ...  ...       ...   \n",
       "2203       46       709         43              182  ...         0   \n",
       "2204       56       406          0               30  ...         0   \n",
       "2205       91       908         48              217  ...         0   \n",
       "2206        8       428         30              214  ...         0   \n",
       "2207       40        84          3               61  ...         1   \n",
       "\n",
       "      Education_Level  Age  Total_Campaigns_Accepted  Average_Spend  Spent  \\\n",
       "0                High   66                         0     539.000000   2252   \n",
       "1                High   69                         0      13.500000     38   \n",
       "2                High   58                         0     776.000000   1202   \n",
       "3                High   39                         0      26.500000     64   \n",
       "4                High   42                         0      84.400000    595   \n",
       "...               ...  ...                       ...            ...    ...   \n",
       "2203             High   56                         0     670.500000   2050   \n",
       "2204             High   77                         1      63.428571    850   \n",
       "2205             High   42                         1    1241.000000   2149   \n",
       "2206             High   67                         0     421.500000   1271   \n",
       "2207             High   69                         0      57.333333    256   \n",
       "\n",
       "      Is_Parent  total_spending  avg_web_visits  online_purchase_ratio  \n",
       "0             0            1617        0.583333               0.363636  \n",
       "1             1              27        0.416667               0.250000  \n",
       "2             0             776        0.333333               0.400000  \n",
       "3             1              53        0.500000               0.333333  \n",
       "4             1             422        0.416667               0.357143  \n",
       "...         ...             ...             ...                    ...  \n",
       "2203          1            1341        0.416667               0.562500  \n",
       "2204          1             444        0.583333               0.533333  \n",
       "2205          0            1241        0.500000               0.111111  \n",
       "2206          1             843        0.250000               0.285714  \n",
       "2207          1             172        0.583333               0.375000  \n",
       "\n",
       "[2204 rows x 34 columns]"
      ]
     },
     "execution_count": 5,
     "metadata": {},
     "output_type": "execute_result"
    }
   ],
   "source": [
    "df"
   ]
  },
  {
   "cell_type": "code",
   "execution_count": 6,
   "id": "c5f3d2ca",
   "metadata": {},
   "outputs": [],
   "source": [
    "custom_style = {'axes.labelcolor': 'black',\n",
    "                'xtick.color': 'black',\n",
    "                'ytick.color': 'black'}\n",
    "sns.set_style(\"darkgrid\", rc=custom_style)"
   ]
  },
  {
   "cell_type": "code",
   "execution_count": 7,
   "id": "8319212e",
   "metadata": {},
   "outputs": [
    {
     "data": {
      "text/plain": [
       "0    2062\n",
       "1     142\n",
       "Name: AcceptedCmp1, dtype: int64"
      ]
     },
     "execution_count": 7,
     "metadata": {},
     "output_type": "execute_result"
    },
    {
     "data": {
      "image/png": "[encoded data removed]",
      "text/plain": [
       "<Figure size 432x288 with 1 Axes>"
      ]
     },
     "metadata": {},
     "output_type": "display_data"
    }
   ],
   "source": [
    "sns.countplot(x=df['AcceptedCmp1'])\n",
    "pd.value_counts(df['AcceptedCmp1'])"
   ]
  },
  {
   "cell_type": "code",
   "execution_count": 8,
   "id": "d1984022",
   "metadata": {},
   "outputs": [
    {
     "data": {
      "text/plain": [
       "0    2174\n",
       "1      30\n",
       "Name: AcceptedCmp2, dtype: int64"
      ]
     },
     "execution_count": 8,
     "metadata": {},
     "output_type": "execute_result"
    },
    {
     "data": {
      "image/png": "[encoded data removed]",
      "text/plain": [
       "<Figure size 432x288 with 1 Axes>"
      ]
     },
     "metadata": {},
     "output_type": "display_data"
    }
   ],
   "source": [
    "sns.countplot(x=df['AcceptedCmp2'])\n",
    "pd.value_counts(df['AcceptedCmp2'])"
   ]
  },
  {
   "cell_type": "code",
   "execution_count": 9,
   "id": "3b6ebf83",
   "metadata": {},
   "outputs": [
    {
     "data": {
      "text/plain": [
       "0    2041\n",
       "1     163\n",
       "Name: AcceptedCmp3, dtype: int64"
      ]
     },
     "execution_count": 9,
     "metadata": {},
     "output_type": "execute_result"
    },
    {
     "data": {
      "image/png": "[encoded data removed]",
      "text/plain": [
       "<Figure size 432x288 with 1 Axes>"
      ]
     },
     "metadata": {},
     "output_type": "display_data"
    }
   ],
   "source": [
    "sns.countplot(x=df['AcceptedCmp3'])\n",
    "pd.value_counts(df['AcceptedCmp3'])"
   ]
  },
  {
   "cell_type": "code",
   "execution_count": 10,
   "id": "73b645da",
   "metadata": {},
   "outputs": [
    {
     "data": {
      "text/plain": [
       "0    2040\n",
       "1     164\n",
       "Name: AcceptedCmp4, dtype: int64"
      ]
     },
     "execution_count": 10,
     "metadata": {},
     "output_type": "execute_result"
    },
    {
     "data": {
      "image/png": "[encoded data removed]",
      "text/plain": [
       "<Figure size 432x288 with 1 Axes>"
      ]
     },
     "metadata": {},
     "output_type": "display_data"
    }
   ],
   "source": [
    "sns.countplot(x=df['AcceptedCmp4'])\n",
    "pd.value_counts(df['AcceptedCmp4'])"
   ]
  },
  {
   "cell_type": "code",
   "execution_count": 11,
   "id": "c243ae97",
   "metadata": {},
   "outputs": [
    {
     "data": {
      "text/plain": [
       "0    2042\n",
       "1     162\n",
       "Name: AcceptedCmp5, dtype: int64"
      ]
     },
     "execution_count": 11,
     "metadata": {},
     "output_type": "execute_result"
    },
    {
     "data": {
      "image/png": "[encoded data removed]",
      "text/plain": [
       "<Figure size 432x288 with 1 Axes>"
      ]
     },
     "metadata": {},
     "output_type": "display_data"
    }
   ],
   "source": [
    "sns.countplot(x=df['AcceptedCmp5'])\n",
    "pd.value_counts(df['AcceptedCmp5'])"
   ]
  },
  {
   "cell_type": "code",
   "execution_count": 12,
   "id": "33948370",
   "metadata": {},
   "outputs": [
    {
     "data": {
      "text/plain": [
       "0    1871\n",
       "1     333\n",
       "Name: Response, dtype: int64"
      ]
     },
     "execution_count": 12,
     "metadata": {},
     "output_type": "execute_result"
    },
    {
     "data": {
      "image/png": "[encoded data removed]",
      "text/plain": [
       "<Figure size 432x288 with 1 Axes>"
      ]
     },
     "metadata": {},
     "output_type": "display_data"
    }
   ],
   "source": [
    "sns.countplot(x=df['Response'])\n",
    "pd.value_counts(df['Response'])"
   ]
  },
  {
   "cell_type": "markdown",
   "id": "6438bb3e",
   "metadata": {},
   "source": [
    "# Income"
   ]
  },
  {
   "cell_type": "code",
   "execution_count": 13,
   "id": "4173ecd4",
   "metadata": {},
   "outputs": [
    {
     "data": {
      "text/plain": [
       "<AxesSubplot:xlabel='Income', ylabel='Count'>"
      ]
     },
     "execution_count": 13,
     "metadata": {},
     "output_type": "execute_result"
    },
    {
     "data": {
      "image/png": "[encoded data removed]",
      "text/plain": [
       "<Figure size 432x288 with 1 Axes>"
      ]
     },
     "metadata": {},
     "output_type": "display_data"
    }
   ],
   "source": [
    "sns.histplot(df, x='Income')"
   ]
  },
  {
   "cell_type": "code",
   "execution_count": null,
   "id": "625ef310",
   "metadata": {},
   "outputs": [],
   "source": []
  }
 ],
 "metadata": {
  "kernelspec": {
   "display_name": "Python 3 (ipykernel)",
   "language": "python",
   "name": "python3"
  },
  "language_info": {
   "codemirror_mode": {
    "name": "ipython",
    "version": 3
   },
   "file_extension": ".py",
   "mimetype": "text/x-python",
   "name": "python",
   "nbconvert_exporter": "python",
   "pygments_lexer": "ipython3",
   "version": "3.9.12"
  }
 },
 "nbformat": 4,
 "nbformat_minor": 5
}
